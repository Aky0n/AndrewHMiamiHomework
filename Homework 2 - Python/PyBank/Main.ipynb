{
 "cells": [
  {
   "cell_type": "code",
   "execution_count": 64,
   "metadata": {},
   "outputs": [],
   "source": [
    "# Importing pathlib, csv library and pandas\n",
    "from pathlib import Path\n",
    "import csv\n",
    "import pandas as pd"
   ]
  },
  {
   "cell_type": "code",
   "execution_count": 65,
   "metadata": {},
   "outputs": [],
   "source": [
    "# Setting the file path\n",
    "filepath = Path('Resources/budget_data.csv')"
   ]
  },
  {
   "cell_type": "code",
   "execution_count": 66,
   "metadata": {},
   "outputs": [
    {
     "data": {
      "text/html": [
       "<div>\n",
       "<style scoped>\n",
       "    .dataframe tbody tr th:only-of-type {\n",
       "        vertical-align: middle;\n",
       "    }\n",
       "\n",
       "    .dataframe tbody tr th {\n",
       "        vertical-align: top;\n",
       "    }\n",
       "\n",
       "    .dataframe thead th {\n",
       "        text-align: right;\n",
       "    }\n",
       "</style>\n",
       "<table border=\"1\" class=\"dataframe\">\n",
       "  <thead>\n",
       "    <tr style=\"text-align: right;\">\n",
       "      <th></th>\n",
       "      <th>Profit/Losses</th>\n",
       "    </tr>\n",
       "    <tr>\n",
       "      <th>Date</th>\n",
       "      <th></th>\n",
       "    </tr>\n",
       "  </thead>\n",
       "  <tbody>\n",
       "    <tr>\n",
       "      <th>2010-01-01</th>\n",
       "      <td>867884</td>\n",
       "    </tr>\n",
       "    <tr>\n",
       "      <th>2010-02-01</th>\n",
       "      <td>984655</td>\n",
       "    </tr>\n",
       "    <tr>\n",
       "      <th>2010-03-01</th>\n",
       "      <td>322013</td>\n",
       "    </tr>\n",
       "    <tr>\n",
       "      <th>2010-04-01</th>\n",
       "      <td>-69417</td>\n",
       "    </tr>\n",
       "    <tr>\n",
       "      <th>2010-05-01</th>\n",
       "      <td>310503</td>\n",
       "    </tr>\n",
       "  </tbody>\n",
       "</table>\n",
       "</div>"
      ],
      "text/plain": [
       "            Profit/Losses\n",
       "Date                     \n",
       "2010-01-01         867884\n",
       "2010-02-01         984655\n",
       "2010-03-01         322013\n",
       "2010-04-01         -69417\n",
       "2010-05-01         310503"
      ]
     },
     "execution_count": 66,
     "metadata": {},
     "output_type": "execute_result"
    }
   ],
   "source": [
    "budget_data_df = pd.read_csv(filepath, index_col='Date', parse_dates=True, infer_datetime_format=True)\n",
    "budget_data_df.sort_index(inplace=True)\n",
    "budget_data_df.head()"
   ]
  },
  {
   "cell_type": "code",
   "execution_count": 67,
   "metadata": {},
   "outputs": [],
   "source": [
    "# Counting the months with the exception of any duplicates \n",
    "budget_data_df.nunique(axis = 1, dropna = True)\n",
    "budget_months = 86"
   ]
  },
  {
   "cell_type": "code",
   "execution_count": 68,
   "metadata": {},
   "outputs": [],
   "source": [
    "# Finding the net total \n",
    "budget_data_df.sum(axis = 0, skipna = True)\n",
    "budget_net_total = 38382578\n"
   ]
  },
  {
   "cell_type": "code",
   "execution_count": 69,
   "metadata": {},
   "outputs": [
    {
     "data": {
      "text/plain": [
       "38382578"
      ]
     },
     "execution_count": 69,
     "metadata": {},
     "output_type": "execute_result"
    }
   ],
   "source": [
    "# Or finding the net total can be achieved this way \n",
    "budget_data_df['Profit/Losses'].sum()"
   ]
  },
  {
   "cell_type": "code",
   "execution_count": 70,
   "metadata": {},
   "outputs": [
    {
     "name": "stdout",
     "output_type": "stream",
     "text": [
      "Profit/Losses    1170593\n",
      "Name: 2012-02-01 00:00:00, dtype: int64\n"
     ]
    }
   ],
   "source": [
    "# Finding greatest increase in profits (date & amount)\n",
    "print(budget_data_df.loc[budget_data_df['Profit/Losses'].idxmax()])\n",
    "max_profit = 1170593\n",
    "mp_date = \"2012-02-01\""
   ]
  },
  {
   "cell_type": "code",
   "execution_count": 71,
   "metadata": {},
   "outputs": [
    {
     "name": "stdout",
     "output_type": "stream",
     "text": [
      "Profit/Losses   -1196225\n",
      "Name: 2013-09-01 00:00:00, dtype: int64\n"
     ]
    }
   ],
   "source": [
    "# Finding greatest decrease in losses (date & amount)\n",
    "print(budget_data_df.loc[budget_data_df['Profit/Losses'].idxmin()])\n",
    "max_loss = -1196225\n",
    "ml_date = \"2013-09-01\""
   ]
  },
  {
   "cell_type": "code",
   "execution_count": 72,
   "metadata": {},
   "outputs": [
    {
     "name": "stdout",
     "output_type": "stream",
     "text": [
      "446309.05\n"
     ]
    }
   ],
   "source": [
    "# Average of the changes in profit/losses rounded to the nearest cent over entire period\n",
    "budget_average = budget_net_total / budget_months\n",
    "print(round(budget_average, 2))"
   ]
  },
  {
   "cell_type": "code",
   "execution_count": 73,
   "metadata": {},
   "outputs": [
    {
     "name": "stdout",
     "output_type": "stream",
     "text": [
      "Financial Analysis:\n",
      "~~~~~~~~~~~~~~~~~~~~~~~~~~~~~~~~~~\n",
      "Total Months: 86\n",
      "Net Total: $38382578\n",
      "Average Total Change: $446309.05\n",
      "Greatest Increase in Profits: $1170593 on 2012-02-01\n",
      "Greatest Decrease in Losses: $-1196225 on 2013-09-01\n"
     ]
    }
   ],
   "source": [
    "# Print analysis\n",
    "print(f\"Financial Analysis:\")\n",
    "print(\"~~~~~~~~~~~~~~~~~~~~~~~~~~~~~~~~~~\")\n",
    "print(f\"Total Months: {budget_months}\")\n",
    "print(f\"Net Total: ${budget_net_total}\")\n",
    "print(f\"Average Total Change: ${round(budget_average, 2)}\")\n",
    "print(f\"Greatest Increase in Profits: ${max_profit} on {mp_date}\")\n",
    "print(f\"Greatest Decrease in Losses: ${max_loss} on {ml_date}\")"
   ]
  },
  {
   "cell_type": "code",
   "execution_count": 74,
   "metadata": {},
   "outputs": [],
   "source": [
    "with open('financial_analysis.txt', 'w') as text:\n",
    "    text.write(f\"Financial Analysis:\" + \"\\n\")\n",
    "    text.write(\"~~~~~~~~~~~~~~~~~~~~~~~~~~~~~~~~~~\" + \"\\n\")\n",
    "    text.write(f\"Total Months: {budget_months}\" + \"\\n\")\n",
    "    text.write(f\"Net Total: ${budget_net_total}\" + \"\\n\")\n",
    "    text.write(f\"Average Total Change: $ {round(budget_average, 2)}\" + \"\\n\")\n",
    "    text.write(f\"Greatest Increase in Profits: ${max_profit} on {mp_date}\" + \"\\n\")\n",
    "    text.write(f\"Greatest Decrease in Losses: ${max_loss} on {ml_date}\" + \"\\n\")"
   ]
  },
  {
   "cell_type": "code",
   "execution_count": null,
   "metadata": {},
   "outputs": [],
   "source": []
  }
 ],
 "metadata": {
  "interpreter": {
   "hash": "7c339fc1cd946968504b17ed80fbf6b306b0a7cf2c3f114d30eec4e30dce72ef"
  },
  "kernelspec": {
   "display_name": "Python 3.8.8 64-bit ('FinTech': conda)",
   "name": "python3"
  },
  "language_info": {
   "codemirror_mode": {
    "name": "ipython",
    "version": 3
   },
   "file_extension": ".py",
   "mimetype": "text/x-python",
   "name": "python",
   "nbconvert_exporter": "python",
   "pygments_lexer": "ipython3",
   "version": "3.8.8"
  },
  "orig_nbformat": 4
 },
 "nbformat": 4,
 "nbformat_minor": 2
}
