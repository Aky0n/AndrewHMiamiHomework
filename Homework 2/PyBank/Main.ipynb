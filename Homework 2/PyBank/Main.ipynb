{
 "cells": [
  {
   "cell_type": "code",
   "execution_count": 94,
   "source": [
    "# Importing pathlib, csv library and pandas\r\n",
    "from pathlib import Path\r\n",
    "import csv\r\n",
    "import pandas as pd"
   ],
   "outputs": [],
   "metadata": {}
  },
  {
   "cell_type": "code",
   "execution_count": 95,
   "source": [
    "# Setting the file path\r\n",
    "filepath = Path('budget_data.csv')"
   ],
   "outputs": [],
   "metadata": {}
  },
  {
   "cell_type": "code",
   "execution_count": 96,
   "source": [
    "budget_data_df = pd.read_csv(filepath, index_col='Date', parse_dates=True, infer_datetime_format=True)\r\n",
    "budget_data_df.sort_index(inplace=True)\r\n",
    "budget_data_df.head()"
   ],
   "outputs": [
    {
     "output_type": "execute_result",
     "data": {
      "text/html": [
       "<div>\n",
       "<style scoped>\n",
       "    .dataframe tbody tr th:only-of-type {\n",
       "        vertical-align: middle;\n",
       "    }\n",
       "\n",
       "    .dataframe tbody tr th {\n",
       "        vertical-align: top;\n",
       "    }\n",
       "\n",
       "    .dataframe thead th {\n",
       "        text-align: right;\n",
       "    }\n",
       "</style>\n",
       "<table border=\"1\" class=\"dataframe\">\n",
       "  <thead>\n",
       "    <tr style=\"text-align: right;\">\n",
       "      <th></th>\n",
       "      <th>Profit/Losses</th>\n",
       "    </tr>\n",
       "    <tr>\n",
       "      <th>Date</th>\n",
       "      <th></th>\n",
       "    </tr>\n",
       "  </thead>\n",
       "  <tbody>\n",
       "    <tr>\n",
       "      <th>2010-01-01</th>\n",
       "      <td>867884</td>\n",
       "    </tr>\n",
       "    <tr>\n",
       "      <th>2010-02-01</th>\n",
       "      <td>984655</td>\n",
       "    </tr>\n",
       "    <tr>\n",
       "      <th>2010-03-01</th>\n",
       "      <td>322013</td>\n",
       "    </tr>\n",
       "    <tr>\n",
       "      <th>2010-04-01</th>\n",
       "      <td>-69417</td>\n",
       "    </tr>\n",
       "    <tr>\n",
       "      <th>2010-05-01</th>\n",
       "      <td>310503</td>\n",
       "    </tr>\n",
       "  </tbody>\n",
       "</table>\n",
       "</div>"
      ],
      "text/plain": [
       "            Profit/Losses\n",
       "Date                     \n",
       "2010-01-01         867884\n",
       "2010-02-01         984655\n",
       "2010-03-01         322013\n",
       "2010-04-01         -69417\n",
       "2010-05-01         310503"
      ]
     },
     "metadata": {},
     "execution_count": 96
    }
   ],
   "metadata": {}
  },
  {
   "cell_type": "code",
   "execution_count": 97,
   "source": [
    "# Counting the months with the exception of any duplicates \r\n",
    "budget_data_df.nunique(axis = 1, dropna = True)\r\n",
    "budget_months = 86"
   ],
   "outputs": [],
   "metadata": {}
  },
  {
   "cell_type": "code",
   "execution_count": 98,
   "source": [
    "# Finding the net total \r\n",
    "budget_data_df.sum(axis = 0, skipna = True)\r\n",
    "budget_net_total = 38382578\r\n"
   ],
   "outputs": [],
   "metadata": {}
  },
  {
   "cell_type": "code",
   "execution_count": 99,
   "source": [
    "# Or finding the net total can be achieved this way \r\n",
    "budget_data_df['Profit/Losses'].sum()"
   ],
   "outputs": [
    {
     "output_type": "execute_result",
     "data": {
      "text/plain": [
       "38382578"
      ]
     },
     "metadata": {},
     "execution_count": 99
    }
   ],
   "metadata": {}
  },
  {
   "cell_type": "code",
   "execution_count": 100,
   "source": [
    "# Finding greatest increase in profits (date & amount)\r\n",
    "budget_data_df.loc[df['Profit/Losses'].idxmax()]\r\n",
    "max_profit = 1170593\r\n",
    "mp_date = \"2012-02-01\""
   ],
   "outputs": [],
   "metadata": {}
  },
  {
   "cell_type": "code",
   "execution_count": 101,
   "source": [
    "# Finding greatest decrease in losses (date & amount)\r\n",
    "budget_data_df.loc[df['Profit/Losses'].idxmin()]\r\n",
    "max_loss = -1196225\r\n",
    "ml_date = \"2013-09-01\""
   ],
   "outputs": [],
   "metadata": {}
  },
  {
   "cell_type": "code",
   "execution_count": 102,
   "source": [
    "# Average of the changes in profit/losses rounded to the nearest cent over entire period\r\n",
    "budget_average = budget_net_total / budget_months\r\n",
    "print(round(budget_average, 2))"
   ],
   "outputs": [
    {
     "output_type": "stream",
     "name": "stdout",
     "text": [
      "446309.05\n"
     ]
    }
   ],
   "metadata": {}
  },
  {
   "cell_type": "code",
   "execution_count": 103,
   "source": [
    "# Print analysis\r\n",
    "print(f\"Financial Analysis:\")\r\n",
    "print(\"~~~~~~~~~~~~~~~~~~~~~~~~~~~~~~~~~~\")\r\n",
    "print(f\"Total Months: {budget_months}\")\r\n",
    "print(f\"Net Total: ${budget_net_total}\")\r\n",
    "print(f\"Average Total Change: ${round(budget_average, 2)}\")\r\n",
    "print(f\"Greatest Increase in Profits: ${max_profit} on {mp_date}\")\r\n",
    "print(f\"Greatest Decrease in Losses: ${max_loss} on {ml_date}\")"
   ],
   "outputs": [
    {
     "output_type": "stream",
     "name": "stdout",
     "text": [
      "Financial Analysis:\n",
      "~~~~~~~~~~~~~~~~~~~~~~~~~~~~~~~~~~\n",
      "Total Months: 86\n",
      "Net Total: $38382578\n",
      "Average Total Change: $446309.05\n",
      "Greatest Increase in Profits: $1170593 on 2012-02-01\n",
      "Greatest Decrease in Losses: $-1196225 on 2013-09-01\n"
     ]
    }
   ],
   "metadata": {}
  },
  {
   "cell_type": "code",
   "execution_count": 104,
   "source": [
    "with open('financial_analysis.txt', 'w') as text:\r\n",
    "    text.write(f\"Financial Analysis:\" + \"\\n\")\r\n",
    "    text.write(\"~~~~~~~~~~~~~~~~~~~~~~~~~~~~~~~~~~\" + \"\\n\")\r\n",
    "    text.write(f\"Total Months: {budget_months}\" + \"\\n\")\r\n",
    "    text.write(f\"Net Total: ${budget_net_total}\" + \"\\n\")\r\n",
    "    text.write(f\"Average Total Change: $ {round(budget_average, 2)}\" + \"\\n\")\r\n",
    "    text.write(f\"Greatest Increase in Profits: ${max_profit} on {mp_date}\" + \"\\n\")\r\n",
    "    text.write(f\"Greatest Decrease in Losses: ${max_loss} on {ml_date}\" + \"\\n\")"
   ],
   "outputs": [],
   "metadata": {}
  },
  {
   "cell_type": "code",
   "execution_count": null,
   "source": [],
   "outputs": [],
   "metadata": {}
  }
 ],
 "metadata": {
  "orig_nbformat": 4,
  "language_info": {
   "name": "python",
   "version": "3.8.8",
   "mimetype": "text/x-python",
   "codemirror_mode": {
    "name": "ipython",
    "version": 3
   },
   "pygments_lexer": "ipython3",
   "nbconvert_exporter": "python",
   "file_extension": ".py"
  },
  "kernelspec": {
   "name": "python3",
   "display_name": "Python 3.8.8 64-bit ('FinTech': conda)"
  },
  "interpreter": {
   "hash": "7c339fc1cd946968504b17ed80fbf6b306b0a7cf2c3f114d30eec4e30dce72ef"
  }
 },
 "nbformat": 4,
 "nbformat_minor": 2
}