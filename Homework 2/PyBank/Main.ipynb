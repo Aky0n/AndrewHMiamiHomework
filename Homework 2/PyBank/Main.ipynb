{
 "cells": [
  {
   "cell_type": "code",
   "execution_count": 10,
   "source": [
    "# Importing pathlib, csv library and pandas\r\n",
    "from pathlib import Path\r\n",
    "import csv\r\n",
    "import pandas as pd"
   ],
   "outputs": [],
   "metadata": {}
  },
  {
   "cell_type": "code",
   "execution_count": 11,
   "source": [
    "# Setting the file path\r\n",
    "filepath = Path('Resources/budget_data.csv')"
   ],
   "outputs": [],
   "metadata": {}
  },
  {
   "cell_type": "code",
   "execution_count": 12,
   "source": [
    "with open(filepath, 'r') as csvfile:\r\n",
    "    csvreader = csv.reader(csvfile, delimiter = \",\")\r\n",
    "    \r\n",
    "# Skip header\r\n",
    "    next(csvreader, None)\r\n",
    "\r\n",
    "# Initialize variables\r\n",
    "    rownum = 0\r\n",
    "    net_total = 0\r\n",
    "    \r\n",
    "# Start for loop to acquire how many months & net total of profit/losses \r\n",
    "    for row in csvreader:\r\n",
    "        if rownum >= 0:\r\n",
    "            rownum += 1\r\n",
    "            continue \r\n",
    "    net_total += int(row[-1]) \r\n",
    "    print(rownum)\r\n",
    "    print(net_total)\r\n",
    "\r\n",
    "# Using Pandas for min and max profit/losses\r\n",
    "    df=pd.read_csv('Resources/budget_data.csv')\r\n",
    "\r\n",
    "\r\n",
    "# Finding min and max profit/losses\r\n",
    "mp = df['Profit/Losses'].max()\r\n",
    "ml = df['Profit/Losses'].min()\r\n",
    "\r\n",
    "print(mp)\r\n",
    "print(ml)\r\n",
    "\r\n",
    "# Finding which days were min and max profit/losses\r\n",
    "max_date = df.loc[df['Profit/Losses'].idxmax(), 'Date']\r\n",
    "min_date = df.loc[df['Profit/Losses'].idxmin(), 'Date']\r\n",
    "\r\n",
    "print(max_date)\r\n",
    "print(min_date)\r\n"
   ],
   "outputs": [
    {
     "output_type": "stream",
     "name": "stdout",
     "text": [
      "86\n",
      "671099\n",
      "1170593\n",
      "-1196225\n",
      "Feb-2012\n",
      "Sep-2013\n"
     ]
    }
   ],
   "metadata": {}
  },
  {
   "cell_type": "code",
   "execution_count": 13,
   "source": [
    "# Average changes of profit/losses rounded to the nearest cent\r\n",
    "average = net_total / rownum\r\n",
    "print(round(average, 2))"
   ],
   "outputs": [
    {
     "output_type": "stream",
     "name": "stdout",
     "text": [
      "7803.48\n"
     ]
    }
   ],
   "metadata": {}
  },
  {
   "cell_type": "code",
   "execution_count": 14,
   "source": [
    "# Print analysis\r\n",
    "print(f\"Financial Analysis:\")\r\n",
    "print(\"~~~~~~~~~~~~~~~~~~~~~~~~~~~~~~~~~~\")\r\n",
    "print(f\"Total Months: {rownum}\")\r\n",
    "print(f\"Net Total: ${net_total}\")\r\n",
    "print(f\"Average Total Change: ${round(average, 2)}\")\r\n",
    "print(f\"Greatest Increase in Profits: {max_date} ${mp}\")\r\n",
    "print(f\"Greatest Decrease in Losses: {min_date} ${ml}\")"
   ],
   "outputs": [
    {
     "output_type": "stream",
     "name": "stdout",
     "text": [
      "Financial Analysis:\n",
      "~~~~~~~~~~~~~~~~~~~~~~~~~~~~~~~~~~\n",
      "Total Months: 86\n",
      "Net Total: $671099\n",
      "Average Total Change: $7803.48\n",
      "Greatest Increase in Profits: Feb-2012 $1170593\n",
      "Greatest Decrease in Losses: Sep-2013 $-1196225\n"
     ]
    }
   ],
   "metadata": {}
  },
  {
   "cell_type": "code",
   "execution_count": 15,
   "source": [
    "with open('financial_analysis.txt', 'w') as text:\r\n",
    "    text.write(\"Financial Analysis:\" + \"\\n\")\r\n",
    "    text.write(\"~~~~~~~~~~~~~~~~~~~~~~~~~~~~~~~~~~\" + \"\\n\")\r\n",
    "    text.write(\"Total Months: {rownum}\" + \"\\n\")\r\n",
    "    text.write(\"Net Total: ${net_total}\" + \"\\n\")\r\n",
    "    text.write(\"Average Total Change: $ {round(average, 2)}\" + \"\\n\")\r\n",
    "    text.write(\"Greatest Increase in Profits: {max_date} ${mp}\" + \"\\n\")\r\n",
    "    text.write(\"Greatest Decrease in Losses: {min_date} ${ml}\" + \"\\n\")"
   ],
   "outputs": [],
   "metadata": {}
  },
  {
   "cell_type": "code",
   "execution_count": null,
   "source": [],
   "outputs": [],
   "metadata": {}
  }
 ],
 "metadata": {
  "kernelspec": {
   "name": "python3",
   "display_name": "Python 3.8.8 64-bit ('FinTech': conda)"
  },
  "language_info": {
   "codemirror_mode": {
    "name": "ipython",
    "version": 3
   },
   "file_extension": ".py",
   "mimetype": "text/x-python",
   "name": "python",
   "nbconvert_exporter": "python",
   "pygments_lexer": "ipython3",
   "version": "3.8.8"
  },
  "interpreter": {
   "hash": "7c339fc1cd946968504b17ed80fbf6b306b0a7cf2c3f114d30eec4e30dce72ef"
  }
 },
 "nbformat": 4,
 "nbformat_minor": 5
}